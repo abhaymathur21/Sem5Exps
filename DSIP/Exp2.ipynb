{
 "cells": [
  {
   "cell_type": "code",
   "execution_count": 1,
   "metadata": {},
   "outputs": [
    {
     "name": "stdout",
     "output_type": "stream",
     "text": [
      "Sequence A: [1, 2, 3, 4, 5, 6, 7, 8]\n",
      "Sequence B: [9, 8, 7, 6, 5, 4, 3, 2]\n",
      "Convolution Length: 8\n",
      "Sequence B - Reversed: [2, 3, 4, 5, 6, 7, 8, 9]\n",
      "Sequence B - Shifted: [7, 8, 9, 2, 3, 4, 5, 6]\n",
      "Result Sequence: [180, 176, 180, 192, 212, 240, 212, 192]\n"
     ]
    }
   ],
   "source": [
    "import numpy as np\n",
    "sequence_A = [1,2,3,4,5,6,7,8]\n",
    "sequence_B = [9,8,7,6,5,4,3,2] \n",
    "print(\"Sequence A:\", sequence_A)\n",
    "print(\"Sequence B:\", sequence_B)\n",
    "convolution_length = len(sequence_A)\n",
    "print(\"Convolution Length:\", convolution_length)\n",
    "sequence_B = sequence_B[::-1]\n",
    "print(\"Sequence B - Reversed:\", sequence_B)\n",
    "shift_amount = 3\n",
    "sequence_B = sequence_B[-shift_amount:] + sequence_B[:-shift_amount]\n",
    "print(\"Sequence B - Shifted:\", sequence_B)\n",
    "result = []\n",
    "for i in range(convolution_length):\n",
    " result.append(np.dot(sequence_A, sequence_B))\n",
    " sequence_B = sequence_B[-1:] + sequence_B[:-1]\n",
    "print(\"Result Sequence:\", result)"
   ]
  },
  {
   "cell_type": "code",
   "execution_count": 7,
   "metadata": {},
   "outputs": [
    {
     "name": "stdout",
     "output_type": "stream",
     "text": [
      "Sequence A: [1, 2, 3, 4, 5, 6, 7, 8]\n",
      "Sequence B: [9, 8, 7, 6, 5, 4, 3, 2]\n",
      "Convolution Length: 15\n",
      "Sequence A - Padded: [1, 2, 3, 4, 5, 6, 7, 8, 0, 0, 0, 0, 0, 0, 0]\n",
      "Sequence B - Folded: [2, 3, 4, 5, 6, 7, 8, 9]\n",
      "Final Result: [240, 203, 166, 130, 96, 65, 38, 16, 0, 0, 0, 0, 0, 0, 0]\n"
     ]
    }
   ],
   "source": [
    "import numpy as np\n",
    "sequence_A = [1,2,3,4,5,6,7,8] \n",
    "sequence_B = [9,8,7,6,5,4,3,2] \n",
    "print(\"Sequence A:\", sequence_A)\n",
    "print(\"Sequence B:\", sequence_B)\n",
    "convolution_length = len(sequence_A) + len(sequence_B) - 1\n",
    "print(\"Convolution Length:\", convolution_length)\n",
    "sequence_A_padded = sequence_A + [0] * (convolution_length - len(sequence_A))\n",
    "print(\"Sequence A - Padded:\", sequence_A_padded)\n",
    "sequence_B_folded = sequence_B[::-1]\n",
    "print(\"Sequence B - Folded:\", sequence_B_folded)\n",
    "result = []\n",
    "for shift_amount in range(convolution_length):\n",
    "    sequence_B_shifted = [0] * shift_amount + sequence_B_folded + [0] * (convolution_length -len(sequence_B_folded) - shift_amount)\n",
    "\n",
    "    multiplied_sequence = [a * b for a, b in zip(sequence_A_padded, sequence_B_shifted)]\n",
    "    result.append(sum(multiplied_sequence))\n",
    "\n",
    "print(\"Final Result:\", result)"
   ]
  }
 ],
 "metadata": {
  "kernelspec": {
   "display_name": "Python 3",
   "language": "python",
   "name": "python3"
  },
  "language_info": {
   "codemirror_mode": {
    "name": "ipython",
    "version": 3
   },
   "file_extension": ".py",
   "mimetype": "text/x-python",
   "name": "python",
   "nbconvert_exporter": "python",
   "pygments_lexer": "ipython3",
   "version": "3.11.4"
  }
 },
 "nbformat": 4,
 "nbformat_minor": 2
}
